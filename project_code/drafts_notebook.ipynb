{
 "cells": [
  {
   "cell_type": "code",
   "execution_count": 1,
   "metadata": {},
   "outputs": [],
   "source": [
    "import pickle\n",
    "from instance import Instance\n",
    "import math\n",
    "\n",
    "inst = pickle.load(open('instances/new_instance.pck', 'rb'))\n",
    "buses = inst.buses.buses\n",
    "drivers = inst.drivers.drivers\n",
    "services = inst.services.services"
   ]
  },
  {
   "cell_type": "code",
   "execution_count": null,
   "metadata": {},
   "outputs": [],
   "source": [
    "print(buses)\n",
    "print(drivers)\n",
    "print(services)"
   ]
  },
  {
   "cell_type": "code",
   "execution_count": 2,
   "metadata": {},
   "outputs": [],
   "source": [
    "\n",
    "class restrictions:\n",
    "    def __init__(self, candidates):\n",
    "        pass\n",
    "    def restriction_1(candidate, ):\n",
    "        pass\n",
    "    def restriction_2():\n",
    "        pass\n",
    "    def restriction_3():\n",
    "        pass\n",
    "    def restriction_4():\n",
    "        pass\n",
    "\n",
    "\n",
    "\n",
    "\n",
    "class Candidate:\n",
    "    def __init__(self, service, bus, driver):\n",
    "        self.service = service\n",
    "        self.bus = bus\n",
    "        self.driver = driver\n",
    "        self.cost = self.get_cost(service, bus, driver)\n",
    "\n",
    "    def get_cost(self, service, bus, driver):\n",
    "        cost = 0\n",
    "        cost += bus.cost_min*service.min\n",
    "        cost += bus.cost_km*service.km\n",
    "        return cost\n",
    "\n",
    "    def check_restrictions(self):\n",
    "        pass\n",
    "        \n",
    "    \n",
    "class Greedy:\n",
    "    def __init__(self, inst):\n",
    "        self.candidates = self.get_candidates(inst.services.services,\n",
    "                                             inst.buses.buses,\n",
    "                                             inst.drivers.drivers)\n",
    "\n",
    "    def selection_function(self, candidates):\n",
    "        best_cost = math.inf\n",
    "        best_candidate = None\n",
    "        for candidate in candidates:\n",
    "            print(candidate.cost)\n",
    "            if candidate.cost < best_cost:\n",
    "                best_candidate = candidate\n",
    "                best_cost = candidate.cost\n",
    "        return best_candidate\n",
    "\n",
    "    def get_candidates(self, services, buses, drivers):\n",
    "        candidates = []\n",
    "        for service in services:\n",
    "            for bus in buses:\n",
    "                for driver in drivers:\n",
    "                        candidates += [Candidate(service, bus, driver)]\n",
    "        return candidates\n",
    "    \n",
    "    def feasible_solution(self, partial_solution, candidate):\n",
    "        candidate_bus = candidate.bus\n",
    "        candidate_driver = candidate.driver\n",
    "        candidate_service = candidate.service"
   ]
  },
  {
   "cell_type": "code",
   "execution_count": 10,
   "metadata": {},
   "outputs": [
    {
     "name": "stdout",
     "output_type": "stream",
     "text": [
      "2091\n",
      "2091\n",
      "1428\n",
      "1428\n",
      "1197\n",
      "1197\n",
      "814\n",
      "814\n"
     ]
    },
    {
     "data": {
      "text/plain": [
       "[[1, 1], [1, 1]]"
      ]
     },
     "execution_count": 10,
     "metadata": {},
     "output_type": "execute_result"
    }
   ],
   "source": [
    "inst = pickle.load(open('instances/new_instance.pck', 'rb'))\n",
    "solver = Greedy(inst)\n",
    "\n",
    "candidates = solver.candidates\n",
    "best = solver.selection_function(candidates)\n",
    "\n",
    "\n",
    "inst.services.overlaps"
   ]
  }
 ],
 "metadata": {
  "kernelspec": {
   "display_name": "Python 3",
   "language": "python",
   "name": "python3"
  },
  "language_info": {
   "codemirror_mode": {
    "name": "ipython",
    "version": 3
   },
   "file_extension": ".py",
   "mimetype": "text/x-python",
   "name": "python",
   "nbconvert_exporter": "python",
   "pygments_lexer": "ipython3",
   "version": "3.6.1"
  }
 },
 "nbformat": 4,
 "nbformat_minor": 2
}
