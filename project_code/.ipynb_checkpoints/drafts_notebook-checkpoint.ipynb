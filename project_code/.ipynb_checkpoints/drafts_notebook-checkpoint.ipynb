{
 "cells": [
  {
   "cell_type": "code",
   "execution_count": null,
   "metadata": {},
   "outputs": [],
   "source": [
    "import pickle\n",
    "from instance import Instance\n",
    "import math\n",
    "from greedy import Greedy\n",
    "\n",
    "\n",
    "inst = pickle.load(open('instances/new_instance.pkl', 'rb'))"
   ]
  },
  {
   "cell_type": "code",
   "execution_count": null,
   "metadata": {},
   "outputs": [],
   "source": [
    "greedy_solver = Greedy(inst)"
   ]
  },
  {
   "cell_type": "code",
   "execution_count": null,
   "metadata": {},
   "outputs": [],
   "source": [
    "solution, cost = greedy_solver.solve()\n",
    "\n",
    "solution.get_cost()"
   ]
  },
  {
   "cell_type": "code",
   "execution_count": null,
   "metadata": {},
   "outputs": [],
   "source": [
    "from copy import deepcopy\n",
    "from solution import Candidate\n",
    "import math\n",
    "math.inf"
   ]
  },
  {
   "cell_type": "code",
   "execution_count": null,
   "metadata": {},
   "outputs": [],
   "source": [
    "class Local_search:\n",
    "    \n",
    "    def __init__(self, intial_sol):\n",
    "        self.instance = intial_sol.instance\n",
    "        self.initial_sol = intial_sol\n",
    "        \n",
    "        \n",
    "    def get_neighourhoods(self):\n",
    "        alternative_solutions = []\n",
    "        Sorted_assigs = self.initial_sol.sort_assignments()\n",
    "        Reverse_assigs = deepcopy(Sorted_assigs)\n",
    "        Reverse_assigs.reverse()\n",
    "        \n",
    "        for assig1 in Sorted_assigs:\n",
    "            for assig2 in Reverse_assigs:\n",
    "                new_assig = Candidate(assig2.service, assig2.bus, assig1.driver)\n",
    "                new_partial_sol = deepcopy(Reverse_assigs)\n",
    "                new_partial_sol.remove(assig2)\n",
    "                if new_assig.feasible_candidate(new_partial_sol, self.instance):\n",
    "                    new_partial_sol += [assig2]\n",
    "                    new_solution = Solution(new_partial_sol, self.instance)\n",
    "                    cost = new_solution.get_cost()\n",
    "                else:\n",
    "                    new_partial_sol += [assig2]\n",
    "                    new_solution = Solution(new_partial_sol, self.instance)\n",
    "                    cost = math.inf\n",
    "                alternative_solutions += [(new_solution, cost)]\n",
    "        return alternative_solutions\n",
    "        \n",
    "\n",
    "ls= Local_search(solution)\n",
    "ls.get_neighourhoods()\n",
    "    "
   ]
  },
  {
   "cell_type": "code",
   "execution_count": 3,
   "metadata": {},
   "outputs": [
    {
     "data": {
      "text/plain": [
       "1546628856.1437886"
      ]
     },
     "execution_count": 3,
     "metadata": {},
     "output_type": "execute_result"
    }
   ],
   "source": [
    "import time\n",
    "start = time.time()\n",
    "how_long = time.time() + 60\n",
    "while time.time() < how_long:\n",
    "    pass\n",
    "print(time.time()-start)\n",
    "\n"
   ]
  }
 ],
 "metadata": {
  "kernelspec": {
   "display_name": "Python 3",
   "language": "python",
   "name": "python3"
  },
  "language_info": {
   "codemirror_mode": {
    "name": "ipython",
    "version": 3
   },
   "file_extension": ".py",
   "mimetype": "text/x-python",
   "name": "python",
   "nbconvert_exporter": "python",
   "pygments_lexer": "ipython3",
   "version": "3.6.7"
  }
 },
 "nbformat": 4,
 "nbformat_minor": 2
}
